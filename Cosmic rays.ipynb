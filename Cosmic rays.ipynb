{
 "cells": [
  {
   "cell_type": "markdown",
   "metadata": {},
   "source": [
    "## Сорокин Вадим, 828\n"
   ]
  },
  {
   "cell_type": "markdown",
   "metadata": {},
   "source": [
    "# Лабораторная работа 7.1. \n",
    "Исследование углового распределения интенсивности космических лучей на уровне моря\n",
    "\n"
   ]
  },
  {
   "cell_type": "code",
   "execution_count": 1,
   "metadata": {},
   "outputs": [],
   "source": [
    "import numpy as np\n",
    "import scipy as sp\n",
    "import scipy.optimize\n",
    "import pandas as pd \n",
    "import matplotlib.pyplot as plt\n"
   ]
  },
  {
   "cell_type": "markdown",
   "metadata": {},
   "source": [
    "### Цель работы:\n",
    "Определить $n$ для зависимости $I(\\theta) = I_0 \\cos^n (\\theta)$ интенсивности космического излучения от угла $\\theta$ с вертикалью\n"
   ]
  },
  {
   "cell_type": "markdown",
   "metadata": {},
   "source": [
    "### Оборудование: \n",
    "Телескоп из двух сцинтилляционных счетчиков, высоковольтный выпрямитель для питания счетчиков, усилители-формирователи импульсов, схема совпадения, счетчик импульсов."
   ]
  },
  {
   "cell_type": "markdown",
   "metadata": {},
   "source": [
    "### Теоретическая справка\n",
    "Космические лучи - это потоки частиц различной природы, зародившиеся в просторах Вселенной и изотропно падающих на поверхность земной атмосферы(первичное излучение), а также потоки частиц, образованных в результате поглощения первичного излучения в атмосфере Земли (вторичное излучение). Энергия отдельных ядер атомов космического излучения может достигать 20 Дж. Вторичное космическое излучение состоит из адронов (переносчики сильного взаимодействия: пионы, протоны, нейтроны и др.), а также из лептонов (электронов, мюонов, нейтрино) и $\\gamma$-квантов, возникающих при распадах нестабильных вторичных частиц и в электронно-фотонных лавинах в атмосфере. Вторичные $\\pi \\pm$ -мезоны распадаются по схеме\n",
    "\n",
    "\\begin{equation}\n",
    "\\pi^{+} \\rightarrow \\mu^{+} + \\nu_{\\mu}\n",
    "\\end{equation}\n",
    "\n",
    "\\begin{equation}\n",
    "\\pi^{-} \\rightarrow \\mu^{-} +\\tilde{ \\nu_{\\mu}}\n",
    "\\end{equation}\n",
    "\n"
   ]
  },
  {
   "cell_type": "markdown",
   "metadata": {},
   "source": [
    "## Ход работы"
   ]
  },
  {
   "cell_type": "markdown",
   "metadata": {},
   "source": [
    "### Измерение числа случайных совпадений "
   ]
  },
  {
   "cell_type": "markdown",
   "metadata": {},
   "source": [
    "Учтём фоновые события, когда счетчики телескопа срабатывают не от частиц, а от ливней частиц космических лучей. Определим скорость счета ливней, измерив число двойных совпадений импульсов при горизотиальном положении телескопа. Время измерения: 9 мин."
   ]
  },
  {
   "cell_type": "code",
   "execution_count": 56,
   "metadata": {},
   "outputs": [],
   "source": [
    "N1 = 44749 / 9 \n",
    "N2 = 53692 / 9"
   ]
  },
  {
   "cell_type": "markdown",
   "metadata": {},
   "source": [
    "Проведем измерение фона, обусловленного широкими атмосферными ливнями:"
   ]
  },
  {
   "cell_type": "code",
   "execution_count": 57,
   "metadata": {},
   "outputs": [],
   "source": [
    "N_b = 50 "
   ]
  },
  {
   "cell_type": "markdown",
   "metadata": {},
   "source": [
    "### Зависимость от угла "
   ]
  },
  {
   "cell_type": "markdown",
   "metadata": {},
   "source": [
    "Определим скорость счета двойных совпадений $I(\\theta)$ для различных положений телескопа с различными углами $\\theta$ к вертикали."
   ]
  },
  {
   "cell_type": "code",
   "execution_count": 58,
   "metadata": {},
   "outputs": [],
   "source": [
    "I = np.array([486, 368, 311, 149, 109, 93, 64])\n",
    "theta = np.array([0, 15, 30, 48, 60, 70, 80])\n"
   ]
  },
  {
   "cell_type": "code",
   "execution_count": null,
   "metadata": {},
   "outputs": [],
   "source": []
  },
  {
   "cell_type": "code",
   "execution_count": 59,
   "metadata": {},
   "outputs": [],
   "source": [
    "df = pd.DataFrame({\n",
    "    \"$\\theta$\": theta,\n",
    "    \"$\\text{I(} \\theta \\text{)}$\": I,\n",
    "    \"$\\text{I(} \\theta \\text{) - }I_b$\": I - N_b,\n",
    "    \"$\\text{ln} \\cos(\\theta)$\": np.log(np.cos(np.radians(theta))),\n",
    "    \"$\\text{ln} ( \\text{I(} \\theta \\text{) - }I_b )/I_0$\": np.log((I - N_b)/436)\n",
    "    }\n",
    ")"
   ]
  },
  {
   "cell_type": "markdown",
   "metadata": {},
   "source": [
    "Занесем данные в таблицу, учтем также фоновые события:"
   ]
  },
  {
   "cell_type": "code",
   "execution_count": 60,
   "metadata": {},
   "outputs": [
    {
     "data": {
      "text/html": [
       "<div>\n",
       "<style scoped>\n",
       "    .dataframe tbody tr th:only-of-type {\n",
       "        vertical-align: middle;\n",
       "    }\n",
       "\n",
       "    .dataframe tbody tr th {\n",
       "        vertical-align: top;\n",
       "    }\n",
       "\n",
       "    .dataframe thead th {\n",
       "        text-align: right;\n",
       "    }\n",
       "</style>\n",
       "<table border=\"1\" class=\"dataframe\">\n",
       "  <thead>\n",
       "    <tr style=\"text-align: right;\">\n",
       "      <th></th>\n",
       "      <th>$\\theta$</th>\n",
       "      <th>$\\text{I(} \\theta \\text{)}$</th>\n",
       "      <th>$\\text{I(} \\theta \\text{) - }I_b$</th>\n",
       "      <th>$\\text{ln} \\cos(\\theta)$</th>\n",
       "      <th>$\\text{ln} ( \\text{I(} \\theta \\text{) - }I_b )/I_0$</th>\n",
       "    </tr>\n",
       "  </thead>\n",
       "  <tbody>\n",
       "    <tr>\n",
       "      <th>0</th>\n",
       "      <td>0</td>\n",
       "      <td>486</td>\n",
       "      <td>436</td>\n",
       "      <td>0.000000</td>\n",
       "      <td>0.000000</td>\n",
       "    </tr>\n",
       "    <tr>\n",
       "      <th>1</th>\n",
       "      <td>15</td>\n",
       "      <td>368</td>\n",
       "      <td>318</td>\n",
       "      <td>-0.034668</td>\n",
       "      <td>-0.315591</td>\n",
       "    </tr>\n",
       "    <tr>\n",
       "      <th>2</th>\n",
       "      <td>30</td>\n",
       "      <td>311</td>\n",
       "      <td>261</td>\n",
       "      <td>-0.143841</td>\n",
       "      <td>-0.513122</td>\n",
       "    </tr>\n",
       "    <tr>\n",
       "      <th>3</th>\n",
       "      <td>48</td>\n",
       "      <td>149</td>\n",
       "      <td>99</td>\n",
       "      <td>-0.401776</td>\n",
       "      <td>-1.482522</td>\n",
       "    </tr>\n",
       "    <tr>\n",
       "      <th>4</th>\n",
       "      <td>60</td>\n",
       "      <td>109</td>\n",
       "      <td>59</td>\n",
       "      <td>-0.693147</td>\n",
       "      <td>-2.000105</td>\n",
       "    </tr>\n",
       "    <tr>\n",
       "      <th>5</th>\n",
       "      <td>70</td>\n",
       "      <td>93</td>\n",
       "      <td>43</td>\n",
       "      <td>-1.072886</td>\n",
       "      <td>-2.316442</td>\n",
       "    </tr>\n",
       "    <tr>\n",
       "      <th>6</th>\n",
       "      <td>80</td>\n",
       "      <td>64</td>\n",
       "      <td>14</td>\n",
       "      <td>-1.750724</td>\n",
       "      <td>-3.438585</td>\n",
       "    </tr>\n",
       "  </tbody>\n",
       "</table>\n",
       "</div>"
      ],
      "text/plain": [
       "   $\\theta$  $\\text{I(} \\theta \\text{)}$  $\\text{I(} \\theta \\text{) - }I_b$  \\\n",
       "0         0                          486                                436   \n",
       "1        15                          368                                318   \n",
       "2        30                          311                                261   \n",
       "3        48                          149                                 99   \n",
       "4        60                          109                                 59   \n",
       "5        70                           93                                 43   \n",
       "6        80                           64                                 14   \n",
       "\n",
       "   $\\text{ln} \\cos(\\theta)$  \\\n",
       "0                  0.000000   \n",
       "1                 -0.034668   \n",
       "2                 -0.143841   \n",
       "3                 -0.401776   \n",
       "4                 -0.693147   \n",
       "5                 -1.072886   \n",
       "6                 -1.750724   \n",
       "\n",
       "   $\\text{ln} ( \\text{I(} \\theta \\text{) - }I_b )/I_0$  \n",
       "0                                           0.000000    \n",
       "1                                          -0.315591    \n",
       "2                                          -0.513122    \n",
       "3                                          -1.482522    \n",
       "4                                          -2.000105    \n",
       "5                                          -2.316442    \n",
       "6                                          -3.438585    "
      ]
     },
     "execution_count": 60,
     "metadata": {},
     "output_type": "execute_result"
    }
   ],
   "source": [
    "df"
   ]
  },
  {
   "cell_type": "markdown",
   "metadata": {},
   "source": [
    "Рассчитаем коэффициент наклона прямой по МНК, найдем погрешности:"
   ]
  },
  {
   "cell_type": "code",
   "execution_count": 61,
   "metadata": {},
   "outputs": [],
   "source": [
    "y, x = df[\"$\\text{ln} ( \\text{I(} \\theta \\text{) - }I_b )/I_0$\"], df[\"$\\text{ln} \\cos(\\theta)$\"]\n",
    "\n"
   ]
  },
  {
   "cell_type": "code",
   "execution_count": 62,
   "metadata": {},
   "outputs": [],
   "source": [
    "def f(x, k, b):\n",
    "    return k * x + b\n",
    "\n",
    "popt, pcov = sp.optimize.curve_fit(f, x, y)\n",
    "perr = np.sqrt(np.diag(pcov))\n"
   ]
  },
  {
   "cell_type": "code",
   "execution_count": 63,
   "metadata": {},
   "outputs": [],
   "source": [
    "k, b = popt\n",
    "sigma_k, sigma_b = perr\n"
   ]
  },
  {
   "cell_type": "code",
   "execution_count": 64,
   "metadata": {},
   "outputs": [
    {
     "data": {
      "text/plain": [
       "<matplotlib.legend.Legend at 0x128eb3f90>"
      ]
     },
     "execution_count": 64,
     "metadata": {},
     "output_type": "execute_result"
    },
    {
     "data": {
      "image/png": "[encoded data removed]",
      "text/plain": [
       "<Figure size 432x288 with 1 Axes>"
      ]
     },
     "metadata": {
      "needs_background": "light"
     },
     "output_type": "display_data"
    }
   ],
   "source": [
    "fig = plt.figure()\n",
    "\n",
    "ax = fig.add_subplot()\n",
    "plt.plot(x, y, 'o', label='$I( θ )$')\n",
    "\n",
    "plt.plot(x, k * x + b, 'r', label='МНК')\n",
    "plt.grid(True)\n",
    "plt.xlabel('$ \\ln (\\cos θ)$')\n",
    "plt.ylabel('$\\ln (I/I_0)$')\n",
    "plt.legend()\n"
   ]
  },
  {
   "cell_type": "markdown",
   "metadata": {},
   "source": [
    "Коэффициент наклона:"
   ]
  },
  {
   "cell_type": "code",
   "execution_count": 65,
   "metadata": {},
   "outputs": [
    {
     "data": {
      "text/plain": [
       "1.8857508473918805"
      ]
     },
     "execution_count": 65,
     "metadata": {},
     "output_type": "execute_result"
    }
   ],
   "source": [
    "k"
   ]
  },
  {
   "cell_type": "markdown",
   "metadata": {},
   "source": [
    "Погрешность k:"
   ]
  },
  {
   "cell_type": "code",
   "execution_count": 66,
   "metadata": {},
   "outputs": [
    {
     "data": {
      "text/plain": [
       "0.1902432721776045"
      ]
     },
     "execution_count": 66,
     "metadata": {},
     "output_type": "execute_result"
    }
   ],
   "source": [
    "sigma_k"
   ]
  },
  {
   "cell_type": "markdown",
   "metadata": {},
   "source": [
    "Итоговое значение степени n в зависимости $I(\\theta) = I_0 \\cos^n (\\theta)$:"
   ]
  },
  {
   "cell_type": "markdown",
   "metadata": {},
   "source": [
    "\\begin{equation}\n",
    "n = 1.89 \\pm 0.19\n",
    "\\end{equation}"
   ]
  },
  {
   "cell_type": "markdown",
   "metadata": {},
   "source": [
    "### Роль случайных совпадений"
   ]
  },
  {
   "cell_type": "markdown",
   "metadata": {},
   "source": [
    "Оценим роль случайных совпадений при измерениях $I(\\theta)$. Случайные совпадения определяются по формуле:\n",
    "\n",
    "\\begin{equation}\n",
    "N_{сл} = 2\\tau_{раз} N_1 N_2\n",
    "\\end{equation}\n",
    "\n",
    "где $N_1$, $N_2$ - числа импульсов в единицу времени от каждого счетчика, т.е. скорость счета в каждом канале, $\\tau_{раз}$ - разрешающее время схемы совпадения. Примем $\\tau_{раз}$ за $10^{-7} с$:\n",
    "\n"
   ]
  },
  {
   "cell_type": "code",
   "execution_count": 70,
   "metadata": {},
   "outputs": [
    {
     "data": {
      "text/plain": [
       "0.0016479172208504799"
      ]
     },
     "execution_count": 70,
     "metadata": {},
     "output_type": "execute_result"
    }
   ],
   "source": [
    "\n",
    "tau = 1e-7\n",
    "N = 2 * tau * N1 * N2 / 3600\n",
    "N"
   ]
  },
  {
   "cell_type": "markdown",
   "metadata": {
    "variables": {
     "N": "<p><strong>NameError</strong>: name &#39;N&#39; is not defined</p>\n"
    }
   },
   "source": [
    "$N_{сл}$ = {{N}}"
   ]
  },
  {
   "cell_type": "markdown",
   "metadata": {},
   "source": [
    "Можно сделать вывод о том, что случайные совпадения практически не вносят погрешность в результат эксперимента."
   ]
  },
  {
   "cell_type": "code",
   "execution_count": null,
   "metadata": {},
   "outputs": [],
   "source": []
  }
 ],
 "metadata": {
  "hide_input": false,
  "kernelspec": {
   "display_name": "Python 3",
   "language": "python",
   "name": "python3"
  },
  "language_info": {
   "codemirror_mode": {
    "name": "ipython",
    "version": 3
   },
   "file_extension": ".py",
   "mimetype": "text/x-python",
   "name": "python",
   "nbconvert_exporter": "python",
   "pygments_lexer": "ipython3",
   "version": "3.8.3"
  },
  "latex_envs": {
   "LaTeX_envs_menu_present": true,
   "autoclose": true,
   "autocomplete": true,
   "bibliofile": "biblio.bib",
   "cite_by": "apalike",
   "current_citInitial": 1,
   "eqLabelWithNumbers": true,
   "eqNumInitial": 1,
   "hotkeys": {
    "equation": "Ctrl-E",
    "itemize": "Ctrl-I"
   },
   "labels_anchors": false,
   "latex_user_defs": false,
   "report_style_numbering": false,
   "user_envs_cfg": false
  }
 },
 "nbformat": 4,
 "nbformat_minor": 4
}
